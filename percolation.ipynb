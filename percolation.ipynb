{
 "cells": [
  {
   "cell_type": "code",
   "execution_count": null,
   "id": "81921dc8",
   "metadata": {},
   "outputs": [],
   "source": [
    "from publish import *"
   ]
  },
  {
   "cell_type": "markdown",
   "id": "b5129394",
   "metadata": {},
   "source": [
    "# Computational Mathematics\n",
    "## Project C\n",
    "## 2024-02-13\n",
    "## Te Pei (<te.pei@st-hughs.ox.ac.uk>)\n",
    "## St. Hugh's College"
   ]
  },
  {
   "cell_type": "code",
   "execution_count": null,
   "id": "91e65e9e",
   "metadata": {
    "lines_to_next_cell": 1
   },
   "outputs": [],
   "source": [
    "import numpy as np\n",
    "import matplotlib.pyplot as plt\n",
    "import matplotlib.colors"
   ]
  },
  {
   "cell_type": "markdown",
   "id": "60356b2b",
   "metadata": {},
   "source": [
    "\n",
    "***\n",
    "### C.1\n"
   ]
  },
  {
   "cell_type": "code",
   "execution_count": null,
   "id": "ec2256ae",
   "metadata": {
    "lines_to_next_cell": 1
   },
   "outputs": [],
   "source": [
    "# Idea: np.random will give output randomly in [0,1), then the probability of this random number smaller than p is exactly p.\n",
    "# Then, use np.random.rand(n,n) to generate a grid with size n*n, with each site True with probability p.\n",
    "def make_grid(n,p):\n",
    "    return np.random.rand(n,n) < p #From [0,1) randomly choose n*n numbers, if < p then True"
   ]
  },
  {
   "cell_type": "code",
   "execution_count": null,
   "id": "b617733e",
   "metadata": {},
   "outputs": [],
   "source": [
    "# Example: Generate a grid of size 8*8, each site being True with probability 0.6\n",
    "A=make_grid(8,0.6)\n",
    "print(A)"
   ]
  },
  {
   "cell_type": "code",
   "execution_count": null,
   "id": "81dd99a3",
   "metadata": {},
   "outputs": [],
   "source": [
    "# In order to test the empirical probability: generating 100 matrixs, as B, of size 10*10, each site True with probability 0.3; By using np.mean() to calculate the total mean of B\n",
    "B=[make_grid(10,0.3) for _ in range(100)]\n",
    "print(np.mean(B))\n",
    "# The results shows that the empirical probability approximately equals to p=0.3"
   ]
  },
  {
   "cell_type": "markdown",
   "id": "e53fac3a",
   "metadata": {},
   "source": [
    "\n",
    "***\n",
    "### C.2\n"
   ]
  },
  {
   "cell_type": "code",
   "execution_count": null,
   "id": "db1a718e",
   "metadata": {
    "lines_to_next_cell": 1
   },
   "outputs": [],
   "source": [
    "# Idea: Using matplotlib to draw a visualise grid. \n",
    "def visualise_grid(grid):\n",
    "    # Draw a grid with colormap=gray, which means coloring \"True\" sites to be white and \"False\" sites to be black.\n",
    "    plt.imshow(grid, cmap='gray') \n",
    "\n",
    "    # Shift the x,y ticks, to make sure they align with the borders of each site.\n",
    "    # Use plt.xticks to set x labels; from -0.5 to the length of the grid, with each step=1; use \"\" to hide the numbers.\n",
    "    plt.xticks(np.arange(-0.5,len(grid),1), \"\") \n",
    "    plt.yticks(np.arange(-0.5,len(grid),1), \"\")\n",
    "\n",
    "    # Add x,y axes to the grid; set color to be black; set linewidth=2 to be clear enough\n",
    "    plt.grid(axis=\"both\", color=\"black\", linewidth=2) \n",
    "\n",
    "    # Show the final graph\n",
    "    plt.show()"
   ]
  },
  {
   "cell_type": "code",
   "execution_count": null,
   "id": "32a79bce",
   "metadata": {
    "lines_to_next_cell": 1
   },
   "outputs": [],
   "source": [
    "# Sample1: visualise the grid in part C.1 (A=make_grid(8,0.6))\n",
    "visualise_grid(A)\n",
    "# Sample2: visualise make_grid(6,0.4)\n",
    "visualise_grid(make_grid(6, 0.4))"
   ]
  },
  {
   "cell_type": "markdown",
   "id": "7ab39a40",
   "metadata": {},
   "source": [
    "\n",
    "***\n",
    "### C.3\n"
   ]
  },
  {
   "cell_type": "code",
   "execution_count": null,
   "id": "b85c42d0",
   "metadata": {
    "lines_to_next_cell": 1
   },
   "outputs": [],
   "source": [
    "# Idea: Consider the each site of the input grids: \"grid\", \"fill status\".\n",
    "# 1.If a site is False in grid, which means it's closed, colored in black.\n",
    "# 2.If a site is True in grid and True in fill status, which means it's open filled, colored in blue\n",
    "# 3.If a site is True in grid and False in fill status, which means it's open unfilled, colored in white\n",
    "def visualise_fill(grid, fill_status):\n",
    "    # Set up: create color_map as a matrix with all entries zero, with the same size with \"grid\".\n",
    "    color_map=np.zeros_like(grid, dtype=int) \n",
    "\n",
    "    # Set color_map with different values(0 means black, 1 means white, 2 means blue)\n",
    "    color_map[grid == False] = 0  # Set closed entries be 0\n",
    "    color_map[(grid == True)&(fill_status == True)] = 1  # Set open filled entries be 1\n",
    "    color_map[(grid == True)&(fill_status == False)] = 2  # Set open unfilled entries be 2\n",
    "    \n",
    "    # Set \"ccamp\":the color map of each site. Each site of color_map with a correspond color.\n",
    "    ccmap=matplotlib.colors.ListedColormap(['black','blue','white']) # Create a color map in color lists\n",
    "    plt.imshow(color_map, cmap=ccmap) #Coloring \"color_map\", with colormap=ccmap\n",
    "    \n",
    "    # Coloring gridlines and set the borders of each square to black, similiarly to C.2\n",
    "    plt.xticks(np.arange(-0.5,len(grid),1),\"\")\n",
    "    plt.yticks(np.arange(-0.5,len(grid),1),\"\")\n",
    "    plt.grid(axis='both', color='black', linewidth=2)\n",
    "\n",
    "    # Show the final graph\n",
    "    plt.show()"
   ]
  },
  {
   "cell_type": "code",
   "execution_count": null,
   "id": "b1dd7fd0",
   "metadata": {},
   "outputs": [],
   "source": [
    "#Test a 3*3 matrix\n",
    "Grid = np.array([[1,0,1],[0,0,1],[1,1,0]])\n",
    "Fill_status = np.array([[1,0,1],[0,0,1],[0,0,0]])\n",
    "visualise_fill(Grid, Fill_status)"
   ]
  },
  {
   "cell_type": "code",
   "execution_count": null,
   "id": "a3ae65e6",
   "metadata": {
    "lines_to_next_cell": 1
   },
   "outputs": [],
   "source": [
    "#Test a 3*3 matrix if fill_status all false\n",
    "Grid = np.array([[0,0,0],[1,0,1],[1,1,1]])\n",
    "Fill_status = np.array([[0,0,0],[0,0,0],[0,0,0]])\n",
    "visualise_fill(Grid, Fill_status)"
   ]
  },
  {
   "cell_type": "markdown",
   "id": "8e8fd2a2",
   "metadata": {},
   "source": [
    "\n",
    "***\n",
    "### C.4\n"
   ]
  },
  {
   "cell_type": "code",
   "execution_count": null,
   "id": "37f722f2",
   "metadata": {
    "lines_to_next_cell": 1
   },
   "outputs": [],
   "source": [
    "#Idea: First generate a \"fill_status\" grid with same size as testing grid, initialized to False.\n",
    "#Then, Checking from each site of the first row of the testing grid: if the site is open then set fill_status grid be True.\n",
    "#Define an recursive function(ffill): From each open site found, recursively visits the neighboring sites(i.e left, right, up, down), set them to be True if they are open.\n",
    "#Also, set boundary conditions: 1.left, right, upper, lower bounds 2.meet some site already filled 3.meet closed site. \n",
    "#Those conditions is to make sure that the recursion step will end at some point.\n",
    "def compute_fill(grid):\n",
    "    fill_status=np.zeros_like(grid, dtype=bool) #Generate the fill_status matrix, initialized to False\n",
    "    grid_rows, grid_columns = grid.shape #Find the size of testing grid, in order to set the boundary conditions.\n",
    "\n",
    "    def ffill(row,col): #The recusive function start from the top\n",
    "        #1. left, right, upper, lower boundaries\n",
    "        if row < 0 or row >= grid_rows or col < 0 or col >= grid_columns:\n",
    "            return\n",
    "        \n",
    "        #2. meet already filled site\n",
    "        if fill_status[row,col] == True:\n",
    "            return\n",
    "        \n",
    "        #3. meet closed site\n",
    "        if grid[row,col] == False:\n",
    "            return\n",
    "        \n",
    "        #If didn't reach boundary conditions, set this site to be True and check the neighbours around that site.\n",
    "        else: \n",
    "            fill_status[row,col] = True #Set this site to be True\n",
    "            ffill(row+1,col) #Go down\n",
    "            ffill(row,col+1) #Go right\n",
    "            ffill(row-1,col) #Go up\n",
    "            ffill(row,col-1) #Go right\n",
    "\n",
    "    #From the open sites in the top row        \n",
    "    for col in range(grid_columns):\n",
    "        if grid[0,col] == True:\n",
    "            ffill(0,col) #For each open site in the top row, applying recursive function\n",
    "    return(fill_status)"
   ]
  },
  {
   "cell_type": "code",
   "execution_count": null,
   "id": "275529ec",
   "metadata": {
    "lines_to_next_cell": 1
   },
   "outputs": [],
   "source": [
    "#Example\n",
    "A = make_grid(10,0.5)\n",
    "visualise_fill(A, compute_fill(A))"
   ]
  },
  {
   "cell_type": "markdown",
   "id": "230712a8",
   "metadata": {},
   "source": [
    "\n",
    "***\n",
    "### C.5\n"
   ]
  },
  {
   "cell_type": "code",
   "execution_count": null,
   "id": "2a13976a",
   "metadata": {
    "lines_to_next_cell": 1
   },
   "outputs": [],
   "source": [
    "#Idea: test whether the last row of \"fill_status\" have any \"True\" site.\n",
    "def percolates(grid):\n",
    "    grid_rows, grid_columns = grid.shape #Get the number of rows in order to know which row should be tested.(where is the last row)\n",
    "    percolates = False\n",
    "    for col in range(grid_columns):\n",
    "        if compute_fill(grid)[grid_rows-1,col] == True: #Generate the fill_status of the testing grid and test the last row one by one\n",
    "            percolates = True\n",
    "            break #if exist a True site, break and return \"True\"\n",
    "    return(percolates) #if no \"True\" site, clearly return \"False\""
   ]
  },
  {
   "cell_type": "code",
   "execution_count": null,
   "id": "3e15dcf9",
   "metadata": {},
   "outputs": [],
   "source": [
    "#Test 10 20*20 grids with p = 0.6\n",
    "for _ in range (10):\n",
    "    A = make_grid(20,0.6)\n",
    "    plt.title(percolates(A)) #Generate title\n",
    "    visualise_fill(A, compute_fill(A)) "
   ]
  },
  {
   "cell_type": "markdown",
   "id": "8a344ceb",
   "metadata": {},
   "source": [
    "\n",
    "***\n",
    "### C.6\n"
   ]
  },
  {
   "cell_type": "code",
   "execution_count": null,
   "id": "6a4ed7d3",
   "metadata": {},
   "outputs": [],
   "source": [
    "#Idea: Split [0.4,0.7] into 31 points, at each point p, generate 1000 grid(20,p), verify whether they are percolate and calculate the empirical probability of being percolate.\n",
    "N = 1000\n",
    "P = np.linspace(0.4, 0.7, 31) #Chose 31 points evenly in P"
   ]
  },
  {
   "cell_type": "code",
   "execution_count": null,
   "id": "b0eb4ee4",
   "metadata": {},
   "outputs": [],
   "source": [
    "#Let C_p be a list, with each element correpond to a 'p'\n",
    "C_p = [] "
   ]
  },
  {
   "cell_type": "code",
   "execution_count": null,
   "id": "c966a0ea",
   "metadata": {},
   "outputs": [],
   "source": [
    "for p in P: #Take different probability in P\n",
    "    count_p = 0 #Count the number of percolate grids\n",
    "    for _ in range (N):\n",
    "        count_p += percolates(make_grid(20,p)) #\"+1\" if percolate, \"+0\" if not percolate\n",
    "    C_p.append(count_p/N) #add percolation probability at p to the end of C_p"
   ]
  },
  {
   "cell_type": "code",
   "execution_count": null,
   "id": "6c087531",
   "metadata": {
    "lines_to_next_cell": 2
   },
   "outputs": [],
   "source": [
    "#Plot the grid, C_p-P function, x,y labels\n",
    "plt.grid()\n",
    "plt.plot(P, C_p)\n",
    "plt.xlabel(\"Vacancy Probability p\")\n",
    "plt.ylabel(\"Percolation Probability C(p)\")\n",
    "plt.show()"
   ]
  }
 ],
 "metadata": {
  "jupytext": {
   "cell_metadata_filter": "-all",
   "main_language": "python",
   "notebook_metadata_filter": "-all"
  }
 },
 "nbformat": 4,
 "nbformat_minor": 5
}
